{
  "metadata": {
    "language_info": {
      "codemirror_mode": {
        "name": "python",
        "version": 3
      },
      "file_extension": ".py",
      "mimetype": "text/x-python",
      "name": "python",
      "nbconvert_exporter": "python",
      "pygments_lexer": "ipython3",
      "version": "3.8"
    },
    "kernelspec": {
      "name": "python",
      "display_name": "Python (Pyodide)",
      "language": "python"
    }
  },
  "nbformat_minor": 4,
  "nbformat": 4,
  "cells": [
    {
      "cell_type": "markdown",
      "source": "# AoC: Day 13",
      "metadata": {}
    },
    {
      "cell_type": "markdown",
      "source": "## Load data",
      "metadata": {}
    },
    {
      "cell_type": "code",
      "source": "import json",
      "metadata": {
        "trusted": true
      },
      "execution_count": 210,
      "outputs": []
    },
    {
      "cell_type": "code",
      "source": "with open('input.txt', 'r') as f:\n    lines = f.read()",
      "metadata": {
        "trusted": true
      },
      "execution_count": 211,
      "outputs": []
    },
    {
      "cell_type": "code",
      "source": "pairs = lines.split('\\n\\n')",
      "metadata": {
        "trusted": true
      },
      "execution_count": 212,
      "outputs": []
    },
    {
      "cell_type": "markdown",
      "source": "## Helpers",
      "metadata": {}
    },
    {
      "cell_type": "code",
      "source": "def type_check(lhs, rhs):\n    return type(lhs) == type(rhs)",
      "metadata": {
        "trusted": true
      },
      "execution_count": 213,
      "outputs": []
    },
    {
      "cell_type": "code",
      "source": "def listify(lhs, rhs):\n    if isinstance(lhs, int):\n        return [lhs], rhs\n    return lhs, [rhs]",
      "metadata": {
        "trusted": true
      },
      "execution_count": 214,
      "outputs": []
    },
    {
      "cell_type": "code",
      "source": "def int_check(lhs, rhs):\n    return isinstance(lhs, int) or isinstance(rhs, int)",
      "metadata": {
        "trusted": true
      },
      "execution_count": 215,
      "outputs": []
    },
    {
      "cell_type": "code",
      "source": "# counter intuitive at face value\n# but this is a sort function\nfalse = 1 \ntrue = -1\nneither = 0\n\ndef compare(l, r):\n    same = type_check(l,r)\n    \n    if not same:\n        l, r = listify(l, r)\n        \n    # just double check\n    assert type_check(l, r), \"The types are not the same\"\n        \n    if int_check(l, r):\n        val = l - r\n        if val == 0:\n            # items are equal\n            # so keep looking\n            return neither\n        if val < 0:\n            return true\n        return false\n    \n    for a, b in zip_longest(l, r):\n        if a is None:\n            # lhs is shorter\n            return true\n        \n        if b is None:\n            # lhs is longer\n            return false\n        \n        res = compare(a, b)\n        \n        if res == neither:\n            continue\n        \n        return res\n    \n    # we got to the end of this list and\n    # all elements are the same\n    # so we continute going\n    return neither",
      "metadata": {
        "trusted": true
      },
      "execution_count": 216,
      "outputs": []
    },
    {
      "cell_type": "markdown",
      "source": "## Part One",
      "metadata": {}
    },
    {
      "cell_type": "code",
      "source": "kvPair = []",
      "metadata": {
        "trusted": true
      },
      "execution_count": 217,
      "outputs": []
    },
    {
      "cell_type": "code",
      "source": "for index, pair in enumerate(pairs):\n    if pair == \"\": continue\n    l, r = pair.splitlines()\n    lhs = json.loads(l)\n    rhs = json.loads(r)\n    kvPair.append((index, lhs, rhs))",
      "metadata": {
        "trusted": true
      },
      "execution_count": 218,
      "outputs": []
    },
    {
      "cell_type": "code",
      "source": "results = []",
      "metadata": {
        "trusted": true
      },
      "execution_count": 219,
      "outputs": []
    },
    {
      "cell_type": "code",
      "source": "from itertools import zip_longest\n    \nfor item in kvPair:\n    c = compare(item[1], item[2])\n    if c <= 0:\n        results.append(item[0] + 1)      ",
      "metadata": {
        "trusted": true
      },
      "execution_count": 220,
      "outputs": []
    },
    {
      "cell_type": "code",
      "source": "sum = 0\n\nfor r in results:\n    sum += r\n\nprint(\"Result: \")\nsum",
      "metadata": {
        "trusted": true
      },
      "execution_count": 221,
      "outputs": [
        {
          "name": "stdout",
          "text": "Result: \n",
          "output_type": "stream"
        },
        {
          "execution_count": 221,
          "output_type": "execute_result",
          "data": {
            "text/plain": "4809"
          },
          "metadata": {}
        }
      ]
    },
    {
      "cell_type": "markdown",
      "source": "## Part two",
      "metadata": {}
    },
    {
      "cell_type": "code",
      "source": "lists = []",
      "metadata": {
        "trusted": true
      },
      "execution_count": 222,
      "outputs": []
    },
    {
      "cell_type": "code",
      "source": "for index, pair in enumerate(pairs):\n    if pair == \"\": continue\n    l, r = pair.splitlines()\n    lists.append(json.loads(l))\n    lists.append(json.loads(r))\n\nlists.append([[2]])\nlists.append([[6]])",
      "metadata": {
        "trusted": true
      },
      "execution_count": 223,
      "outputs": []
    },
    {
      "cell_type": "code",
      "source": "from functools import cmp_to_key\nresults = sorted(lists, key=cmp_to_key(compare))",
      "metadata": {
        "trusted": true
      },
      "execution_count": 224,
      "outputs": []
    },
    {
      "cell_type": "code",
      "source": "print(\"Result: \")\n(results.index([[2]]) + 1) * (results.index([[6]]) + 1)",
      "metadata": {
        "trusted": true
      },
      "execution_count": 225,
      "outputs": [
        {
          "name": "stdout",
          "text": "Result: \n",
          "output_type": "stream"
        },
        {
          "execution_count": 225,
          "output_type": "execute_result",
          "data": {
            "text/plain": "22600"
          },
          "metadata": {}
        }
      ]
    },
    {
      "cell_type": "code",
      "source": "",
      "metadata": {},
      "execution_count": null,
      "outputs": []
    }
  ]
}